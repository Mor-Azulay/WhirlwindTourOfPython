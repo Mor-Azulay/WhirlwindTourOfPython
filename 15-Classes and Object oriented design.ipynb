{
 "cells": [
  {
   "cell_type": "markdown",
   "id": "5f01b349-c4e3-4619-bc4c-32d7fb9e7bb7",
   "metadata": {},
   "source": [
    "# Object Oriented programming"
   ]
  },
  {
   "cell_type": "markdown",
   "id": "27073732-76f3-4981-92b3-3a732bf8a74a",
   "metadata": {},
   "source": [
    "In this tutorial, you’ll learn about Python object-oriented programming (OOP) and how to it relates to the domain of data science. Object-oriented programming can be a concept that’s hard to grasp. This tutorial aims to explain this important concept in an easy to follow manner. \n",
    "OOP refers to a programming structure that bundles related **properties** and **behaviors** into objects.\n",
    "\n",
    "By the end of reading this tutorial tutorial, you’ll have learned:"
   ]
  },
  {
   "cell_type": "markdown",
   "id": "23c8915f-e68d-4edf-ac28-9ee7400588e8",
   "metadata": {},
   "source": [
    "* Understand what object-oriented programming is and when to use it\n",
    "* How to create classes in Python to create new objects\n",
    "* How to work with object attributes and methods to define and modify objects\n",
    "* How to work with class inheritance and polymorphism to modify and extend your Python classes"
   ]
  },
  {
   "cell_type": "markdown",
   "id": "c744a765-ea40-4f9f-b583-96b633b18a2c",
   "metadata": {},
   "source": [
    "## Introduction to Object-Oriented Programming"
   ]
  },
  {
   "cell_type": "markdown",
   "id": "66aaad09-d6ee-4858-82cb-6a7ad79a9f29",
   "metadata": {},
   "source": [
    "Object-oriented programming (or OOP) refers to a programming paradigm that’s based on the concept of, well, objects. In this paradigm, objects can contain both data and code. These objects can also have attributes (properties) and methods (behaviors).\n",
    "\n",
    "So, in short, objects have properties and behaviors. Let’s think of an object representing a person, for example. The person has many different properties, such as a name, age, hair color. They can also do things, such as walk or greet people. Object-oriented programming models real-world entities in the form of organized code that can have properties (via attributes) and can do things (via methods).\n",
    "\n",
    "Object-oriented programming is focused on the following concepts:\n",
    "\n",
    "* **Encapsulation**: The idea behind encapsulation is that all properties and methods of an object are kept private and safe from being inherited by another object. This allows you to define both public and private methods and attributes. Public methods can be used by people using your program, while private methods cannot.\n",
    "\n",
    "* **Abstraction**: Behind the concept of abstraction is the concept of encapsulation. Abstraction allows you to expose only high-level mechanisms for doing certain things while hiding away (or “abstracting”) the complex mechanisms behind it. For example, your car abstracts all the mechanics behind turning your car on by pressing a button or turning a key.\n",
    "\n",
    "* **Inheritance**: Inheritance allows you to create similar objects that maintain a base number of properties (attributes) and abilities (methods). This allows you to create one type of object that can be used as a base for many other objects without needing to repeat your code. For example, the base of a car can be used to create objects such as trucks, SUVs, and camper vans.\n",
    "\n",
    "* **Polymorphism**: The concept of polymorphism builds on the concept of inheritance. While it can be helpful to define child objects, these child objects may operate slightly differently. Polymorphism allows you to define a child object but create and use its own methods. Following, the example of cars and trucks, the method to turn on a truck may be slightly different from turning on a car."
   ]
  },
  {
   "cell_type": "markdown",
   "id": "f8e2e822-285e-4bb5-ad0e-ce67992b3238",
   "metadata": {},
   "source": [
    "## Why Object-Oriented Programming Matters for Data Science"
   ]
  },
  {
   "cell_type": "markdown",
   "id": "9f5d65b2-e7fb-4450-b3ef-f7b75f062f27",
   "metadata": {},
   "source": [
    "In many cases in data science, the paradigm of procedural programming will be sufficient. This structures a program almost like a recipe or an instruction manual. In this case, each line of code is executed in order. So, what’s in it for you to learn object-oriented programming when all you want to do is data analysis?\n",
    "\n",
    "There are two main reasons for doing this:"
   ]
  },
  {
   "cell_type": "markdown",
   "id": "c12ac9f6-c9fa-4cdf-9973-b97c0ae3a444",
   "metadata": {},
   "source": [
    "1. Objects are everywhere in Python (in fact, everything is an object)\n",
    "2. Code organization: As your programs grow, the complexity grows too. Object-oriented programming allows you to organize your code, making it easier to test, debug, and expand.\n",
    "In the early stages of working with Python for data science, it may seem like the concepts behind object-oriented programming don’t make sense or don’t apply. But don’t despair!\n",
    "\n",
    "Learning to think in the paradigm of object-oriented programming allows you to better understand how many Python applications work. For example, a Pandas DataFrame is a complex object that has many attributes and methods. Simply knowing that a DataFrame is an object allows you to understand why the DataFrame has certain methods, while, say, a Python list doesn’t.\n",
    "\n",
    "As a data scientist, you won’t always need to use object-oriented programming. Don’t fall into the trap that everything needs to follow an OOP paradigm. Later in the tutorial, you’ll learn some excellent use cases for when you should be aiming to use object-oriented programming."
   ]
  },
  {
   "cell_type": "markdown",
   "id": "33e228a5-729a-49af-ab12-390a5f674e6a",
   "metadata": {},
   "source": [
    "## Why Create Objects in Python?\n"
   ]
  },
  {
   "cell_type": "markdown",
   "id": "c4aa9f91-8b98-4c26-a0bd-01d66bce06b2",
   "metadata": {},
   "source": [
    "In many cases, Python provides you with the ability to define simple concepts using primitive data types such as lists and dictionaries. For example, you could create a list to hold information about students in your class. Let’s create a few lists to contain this information:\n",
    "\n",
    "```python\n",
    "# Creating lists to store data\n",
    "nik = ['Nik', 33, 'technion IL', 'Toronto']\n",
    "kate = ['Kate', 33, 'government', 'Toronto']\n",
    "evan = ['Evan', 40, 'teaching', 'London']\n",
    "```\n"
   ]
  },
  {
   "cell_type": "markdown",
   "id": "22f41931-2f25-489e-bddd-a93d8bbbc0d3",
   "metadata": {},
   "source": [
    "While this approach works, there are a number of different issues with this approach.\n",
    "\n",
    "1. You need to remember the position of each item.\n",
    "2. When an item doesn’t exist, index [3] may point to a different element.\n",
    "3. It’s not clear what each item represents.\n",
    "\n",
    "While we could turn these lists into dictionaries, or a defaultdict, there are still a number of issues with this approach. You need to define functions to allow these dictionaries to do something. These functions are then accessible for anything else in your program. This can make it quite confusing for readers of your code and lead to unintended consequences.\n",
    "\n",
    "All of these issues can be resolved by creating a class, which can hold different pieces of information, but can also contain functions. In the next section, you’ll learn how to create your first class in Python!"
   ]
  },
  {
   "cell_type": "markdown",
   "id": "ccd42bf5-6da9-49dd-8ce7-f587b7c27faf",
   "metadata": {},
   "source": [
    "## Objects and Classes in Python"
   ]
  },
  {
   "cell_type": "markdown",
   "id": "ec1a7868-ee8d-4ad2-bd9b-235d4726f356",
   "metadata": {},
   "source": [
    "In Python, you can define a class using the class keyword. The keyword is followed by the name of the class and a colon. That, in itself, is enough to define a class! Let’s create a new class following our convention above:\n",
    "\n",
    "```python\n",
    "# Creating your first class\n",
    "class Person:\n",
    "   pass\n",
    "```\n",
    "By convention, a Python class is written with capital letters separating each word. If we had a multi-word class, then each word would be a capital letter.\n",
    "\n"
   ]
  },
  {
   "cell_type": "markdown",
   "id": "5fcbb8db-7a50-4aab-8d9f-d89cde080e8b",
   "metadata": {},
   "source": [
    "Let’s break down a few pieces of terminology before moving on to something more detailed:\n",
    "\n",
    "1. A **class** is the blueprint for creating objects. For example, the class Person could contain information such as a name and an age and functions, but it doesn’t. It only contains the instructions for creating these.\n",
    "2. An **instance** is the **object** that is built when a class is created. If we were to create a Person object, this object would contain information and state about that specific object.\n",
    "Let’s learn how we can expand on our method by giving it some properties. This is done using what’s called the `__init__()` method, also known as the constructor method."
   ]
  },
  {
   "cell_type": "markdown",
   "id": "a97263e8-3a39-4191-ae07-c43e7771fc69",
   "metadata": {},
   "source": [
    "## Python init: The Constructor Method"
   ]
  },
  {
   "cell_type": "markdown",
   "id": "86470218-0faa-4dc3-8bec-4809609d8163",
   "metadata": {},
   "source": [
    "Right now, our `Person` class doesn’t contain any information nor does it do anything. Creating this class, as it is right now, doesn’t actually accomplish anything. Let’s see how we can expand on this by setting the initial attributes of a person."
   ]
  },
  {
   "cell_type": "code",
   "execution_count": 32,
   "id": "8c508989-454f-4f59-afe8-39b9832be089",
   "metadata": {},
   "outputs": [],
   "source": [
    "# Adding details to the Person class\n",
    "class Person:\n",
    "    \n",
    "    def __init__(self, name, age, company):\n",
    "        self.name = name\n",
    "        self.age = age\n",
    "        self.company = company"
   ]
  },
  {
   "cell_type": "markdown",
   "id": "6777b935-5aa8-41fd-8e99-4b9e39a30bb3",
   "metadata": {},
   "source": [
    "Our class `Person` now has three attributes, `name`, `age`, and `company`. When we create a new person, we can pass these parameters in to make our person a bit more interesting!"
   ]
  },
  {
   "cell_type": "code",
   "execution_count": 64,
   "id": "b1bcde90-d1b2-467a-b0f8-35e33eaa18e2",
   "metadata": {},
   "outputs": [],
   "source": [
    "# Creating our first Person instance\n",
    "nik = Person(age=33, name='Nik', company='technion IL')"
   ]
  },
  {
   "cell_type": "code",
   "execution_count": 55,
   "id": "cabca835-b6a6-42e2-9524-f10e78d800af",
   "metadata": {},
   "outputs": [
    {
     "data": {
      "text/plain": [
       "<__main__.Person at 0x7f9a68727880>"
      ]
     },
     "execution_count": 55,
     "metadata": {},
     "output_type": "execute_result"
    }
   ],
   "source": [
    "nik"
   ]
  },
  {
   "cell_type": "code",
   "execution_count": 48,
   "id": "70c88a73-f256-40e6-90b9-2a3696946e3a",
   "metadata": {},
   "outputs": [
    {
     "data": {
      "text/plain": [
       "__main__.Person"
      ]
     },
     "execution_count": 48,
     "metadata": {},
     "output_type": "execute_result"
    }
   ],
   "source": [
    "type(nik)"
   ]
  },
  {
   "cell_type": "markdown",
   "id": "43651500-19d9-4bda-ac3f-b8816c784b23",
   "metadata": {},
   "source": [
    "At first glance, this function looks a little odd. The `__init__()` function is known as the constructor method. This method sets the initial state of the object, by initializing that instance of the class.\n",
    "\n",
    "The `__init__()` function can contain any number of parameters, but the first argument must always be the `self` variable."
   ]
  },
  {
   "cell_type": "markdown",
   "id": "a8047b71-4367-4fc8-a1e0-02d5d71d248a",
   "metadata": {},
   "source": [
    "## Understanding self in Python Object-Oriented Programmin"
   ]
  },
  {
   "cell_type": "markdown",
   "id": "ac249046-b885-4b86-a4c1-7b9b6cc6a6e1",
   "metadata": {},
   "source": [
    "The `self` parameter is used to represent that instance of a class. `self` let’s Python know that the attribute or methods should be applied to that object (and only that object). In essence, the `self` parameter binds the attributes with the given arguments.\n",
    "\n",
    "When you created the first object above, the variables that were passed in were assigned the `self` bindings. So, for example:\n",
    "\n",
    "* `self.name` was assigned the argument of the name parameter\n",
    "* `self.company` was assigned the argument of the company parameter\n",
    "\n",
    "So, `self` points to the instance of that class. In Python, self enables objects to access its attributes and methods and makes these instances unique."
   ]
  },
  {
   "cell_type": "markdown",
   "id": "f4092bb5-2749-4364-a48c-c1c755ec1b7d",
   "metadata": {},
   "source": [
    "## Python Class and Instance Attributes\n"
   ]
  },
  {
   "cell_type": "markdown",
   "id": "f42ff859-4f13-4450-be97-dc58d47fc9cf",
   "metadata": {},
   "source": [
    "In this section, you’ll learn more about attributes in Python classes. In fact, there are two main types of attributes contained in Python classes. There are class **attributes** and instance **attributes**. Let’s load some code again and take a look at the difference:"
   ]
  },
  {
   "cell_type": "code",
   "execution_count": 61,
   "id": "9f5a28e1-966c-4309-9f7c-d97eb88b217f",
   "metadata": {},
   "outputs": [],
   "source": [
    "# Looking at the difference between class and instance attributes\n",
    "class Person:\n",
    "    # Class attribute\n",
    "    type = 'Human'\n",
    "\n",
    "    def __init__(self, name, age, company):\n",
    "        # Instance attributes\n",
    "        self.name = name\n",
    "        self.age = age\n",
    "        self.company = company\n",
    "\n",
    "Nik = Person('Nik', 33, 'thecnion IL')"
   ]
  },
  {
   "cell_type": "code",
   "execution_count": 57,
   "id": "7a69f721-6908-445a-8614-59f39119bf2c",
   "metadata": {},
   "outputs": [
    {
     "name": "stdout",
     "output_type": "stream",
     "text": [
      "Human\n",
      "Human\n",
      "Nik\n"
     ]
    }
   ],
   "source": [
    "print(Person.type)\n",
    "print(Nik.type)\n",
    "print(Nik.name)"
   ]
  },
  {
   "cell_type": "markdown",
   "id": "e874c158-568c-4cd4-9932-44d2aa46cf4b",
   "metadata": {},
   "source": [
    "In the example above we have declared four attributes. Three of these attributes are instance attributes while only one is a class attribute. So what’s the difference? The table below breaks down some of the key differences between class and instance attributes:\n",
    "\n"
   ]
  },
  {
   "cell_type": "markdown",
   "id": "861b36b9-443f-4a1c-8623-05ed3e8d2251",
   "metadata": {},
   "source": [
    "<figure class=\"wp-block-table is-style-stripes\"><table><thead><tr><th>Description</th><th>Instance Attribute</th><th>Class Attribute</th></tr></thead><tbody><tr><td>Created</td><td>Inside the <code>__init__()</code> function</td><td>Created before the <code>__init__()</code> function</td></tr><tr><td>References <code>self</code></td><td>Doesn&#8217;t reference <code>self</code></td><td>Is specified using <code>self.attribute_name</code></td></tr><tr><td>Generic / Specific</td><td>Generic for all instances, unless modified</td><td>Specific to a class instance</td></tr></tbody></table><figcaption</figure>\n",
    "\n"
   ]
  },
  {
   "cell_type": "markdown",
   "id": "76bd3a38-a807-4b58-96d5-fe75f3936949",
   "metadata": {},
   "source": [
    "So, when should you use one over the other?\n",
    "\n",
    "* If you want an attribute to be the same for every instance of your class, such as the `type` attribute in the Person class, then use a **class attribute**. This prevents you from needing to pass it in as a value each time you create a class.\n",
    "* If you want an attribute to specific to an object, then use an **instance attribute**. This lets you customize the object to meet your needs."
   ]
  },
  {
   "cell_type": "markdown",
   "id": "fcfa1dfb-7714-4103-a556-ec487bc8107b",
   "metadata": {},
   "source": [
    "## Accessing Object Attributes in Python"
   ]
  },
  {
   "cell_type": "markdown",
   "id": "015f90e9-f8fd-41b6-9688-f544763c3399",
   "metadata": {},
   "source": [
    "Now that you have an understanding of Python object attributes, let’s see how you can access these attributes. Python object attributes can be accessed using dot (`.`) notation. This is a familiar way of accessing data in lists or dictionaries and it works just like you’d expect."
   ]
  },
  {
   "cell_type": "code",
   "execution_count": 39,
   "id": "f9a1ae8e-8ddf-4d7d-b394-855130ef109a",
   "metadata": {},
   "outputs": [],
   "source": [
    "class Person:\n",
    "    # Class attribute\n",
    "    type = 'Human'\n",
    "\n",
    "    def __init__(self, name, age, company):\n",
    "        # Instance attributes\n",
    "        self.name = name\n",
    "        self.age = age\n",
    "        self.company = company"
   ]
  },
  {
   "cell_type": "code",
   "execution_count": 40,
   "id": "71b82558-88fe-47e8-8ad4-a32e2431ad57",
   "metadata": {},
   "outputs": [],
   "source": [
    "Nik = Person('Nik', 33, 'thecnion IL')"
   ]
  },
  {
   "cell_type": "code",
   "execution_count": 63,
   "id": "aa3e7f39-2144-4c7d-a0dd-2f64b525af09",
   "metadata": {},
   "outputs": [
    {
     "data": {
      "text/plain": [
       "'thecnion IL'"
      ]
     },
     "execution_count": 63,
     "metadata": {},
     "output_type": "execute_result"
    }
   ],
   "source": [
    "Nik.company"
   ]
  },
  {
   "cell_type": "markdown",
   "id": "6397515b-9ec4-43e7-b38d-c3acb0f6395f",
   "metadata": {},
   "source": [
    "We can even modify these attributes by simply directly assigning a new value to them. Say I had a birthday and wanted to update my age, I could simply write:"
   ]
  },
  {
   "cell_type": "code",
   "execution_count": 10,
   "id": "42c4c576-dd53-4397-9c71-43b33a1014b6",
   "metadata": {},
   "outputs": [
    {
     "name": "stdout",
     "output_type": "stream",
     "text": [
      "34\n"
     ]
    }
   ],
   "source": [
    "Nik.age = 34\n",
    "print(Nik.age)"
   ]
  },
  {
   "cell_type": "markdown",
   "id": "ce6e1baf-e18c-4244-a0f2-ac8af5ccf4d0",
   "metadata": {},
   "source": [
    "The state of that object is maintained and can be modified. This is one of the perks of using object-oriented programming – you can run your program while your program’s data is maintained in a helpful, easy to understand manner."
   ]
  },
  {
   "cell_type": "markdown",
   "id": "daab4c04-8d89-44a4-acce-68c91c47cb60",
   "metadata": {},
   "source": [
    "## Python Functions and Methods"
   ]
  },
  {
   "cell_type": "markdown",
   "id": "ff4ac937-7802-47c4-9978-265f5a46d07d",
   "metadata": {},
   "source": [
    "So far, the objects you’ve created have contained information, but they don’t actually do anything. In Python, we use functions to create repetitive actions. In object-oriented programming, functions also exist. However, we call them **methods**. Methods refer to functions contained in an object.The takeaway here is: While a function can be called from anywhere, a class method can only be called from an instance of that class. Because of this, every method is a function but not every function is a method."
   ]
  },
  {
   "cell_type": "markdown",
   "id": "77d1dfd0-76a9-4f89-842f-e7f7b78e2a0c",
   "metadata": {},
   "source": [
    "Let’s define our first object method! We’ll create a method that allows our object to greet someone using their name:"
   ]
  },
  {
   "cell_type": "code",
   "execution_count": 71,
   "id": "d854dd52-5c65-4a84-bf48-589ab5086802",
   "metadata": {},
   "outputs": [],
   "source": [
    "class Person:\n",
    "    type = 'Human'\n",
    "\n",
    "    def __init__(self, name, age, company):\n",
    "        self.name = name\n",
    "        self.age = age\n",
    "        self.company = company\n",
    "    \n",
    "    def greet(self):\n",
    "        print('Hi there! My name is ', self.name)"
   ]
  },
  {
   "cell_type": "code",
   "execution_count": 72,
   "id": "e001a8f3-42d6-46c2-84f1-643d91da5588",
   "metadata": {},
   "outputs": [
    {
     "name": "stdout",
     "output_type": "stream",
     "text": [
      "Hi there! My name is  Nik\n"
     ]
    }
   ],
   "source": [
    "Nik = Person('Nik', 33, 'technion IL')\n",
    "Nik.greet()"
   ]
  },
  {
   "cell_type": "markdown",
   "id": "01f3bf58-acfa-4088-b881-c95faa94c976",
   "metadata": {},
   "source": [
    "Defining an **object method** is nearly the same as creating a regular function. There are a number of key differences:\n",
    "\n",
    "* The function is defined inside the object\n",
    "* The `self` argument is required\n",
    "* The first argument is required to be `self`\n",
    "Remember, `self` points to that instance of the object. Because of this, the method can access its attributes. However, **even if the function doesn’t require any attributes from self, the argument is required**.\n",
    "\n",
    "Let’s now create a method that modifies the object itself. Let’s create a method that allows our object to have a birthday. This will increase the age by one, using the augment assignment operator."
   ]
  },
  {
   "cell_type": "code",
   "execution_count": 74,
   "id": "bdd59476-7f3a-41fb-af9d-25271b4df6ef",
   "metadata": {},
   "outputs": [],
   "source": [
    "class Person:\n",
    "    type = 'Human'\n",
    "\n",
    "    def __init__(self, name, age, company):\n",
    "        self.name = name\n",
    "        self.age = age\n",
    "        self.company = company\n",
    "    \n",
    "    def greet(self):\n",
    "        print('Hi there! My name is ', self.name)\n",
    "\n",
    "    def update_birthday(self):\n",
    "        self.age += 1"
   ]
  },
  {
   "cell_type": "code",
   "execution_count": 75,
   "id": "9e3aefdb-e874-4a4b-8b6f-0ccf0488538a",
   "metadata": {},
   "outputs": [
    {
     "name": "stdout",
     "output_type": "stream",
     "text": [
      "34\n"
     ]
    }
   ],
   "source": [
    "Nik = Person('Nik', 33, 'technion IL')\n",
    "Nik.update_birthday()\n",
    "print(Nik.age)   "
   ]
  },
  {
   "cell_type": "markdown",
   "id": "46e0d213-f643-4bd8-ae79-7228ff2ee4fa",
   "metadata": {},
   "source": [
    "While the complexity of our method `update_birthday()` is quite straight-forward, this drives home the point of object-oriented programming. We are able to abstract away the mechanics behind what the program does behind an easy-to-understand method."
   ]
  },
  {
   "cell_type": "markdown",
   "id": "bb723ef8-28e7-4923-b1b0-194a9d419a3c",
   "metadata": {},
   "source": [
    "## Class Inheritance in Python"
   ]
  },
  {
   "cell_type": "markdown",
   "id": "31d08e70-34fc-4d52-9c61-b542376bf177",
   "metadata": {},
   "source": [
    "In this section, you’ll learn about an important concept related to Python object-oriented programming: inheritance. Inheritance is a process by which a class takes on the attributes and methods of another class. However, the class can also have its own attributes and methods."
   ]
  },
  {
   "cell_type": "markdown",
   "id": "9f5643f9-3c0e-4468-af35-214476d0de76",
   "metadata": {},
   "source": [
    "In the case of inheritance, the original class is referred to as the parent class, while the class that **inherits** is referred to as the **child** class.\n",
    "\n",
    "What’s special about child classes in Python is that:\n",
    "\n",
    "* They inherit all attributes and methods from the parent class\n",
    "* They can define their own attributes and methods, and\n",
    "* They can overwrite the attributes and methods of the parent class\n",
    "\n",
    "Let’s see how we can leverage the concept of inheritance to create a new class: Employee. Each Employee will have the same attributes and methods of a Person, but will also have access to some of its own:"
   ]
  },
  {
   "cell_type": "code",
   "execution_count": 78,
   "id": "34a260f0-9f35-4b54-8170-424838590eed",
   "metadata": {},
   "outputs": [],
   "source": [
    "class Employee(Person):\n",
    "    \n",
    "    def __init__(self, name, age, company, employee_number, income):\n",
    "        super().__init__(name, age, company)\n",
    "        self.employee_number = employee_number\n",
    "        self.income = income\n",
    "\n",
    "    def do_work(self):\n",
    "        print(\"Working hard!\")"
   ]
  },
  {
   "cell_type": "markdown",
   "id": "6bd27413-8b58-432c-9f5e-c4c1c75704d8",
   "metadata": {},
   "source": [
    "Now that we’ve created a subclass of Employee, we can create these objects. The objects will have access to the same methods and attributes, but also any additional attributes or methods. There are a few things to note here:\n",
    "\n",
    "* `super().__init__()` is included in the first line of the `__init__()` function of the subclass. This allows the class to inherit all the attributes from the parent class, without needing to repeat them.\n",
    "* The `super()` function takes all the original arguments of the parent class\n",
    "* We didn’t need to repeat any methods of the original class, but can still access them.\n",
    "\n",
    "Let’ see how we can access a parent class method:"
   ]
  },
  {
   "cell_type": "code",
   "execution_count": 79,
   "id": "07888030-273b-437c-9f13-302a89473a4a",
   "metadata": {},
   "outputs": [
    {
     "name": "stdout",
     "output_type": "stream",
     "text": [
      "Hi there! My name is  Kate\n"
     ]
    }
   ],
   "source": [
    "kate = Employee('Kate', 33, 'government', employee_number=12345, income=90000)\n",
    "kate.greet()"
   ]
  },
  {
   "cell_type": "code",
   "execution_count": 80,
   "id": "d7cd35f9-f746-4de2-a021-a39bc912cc1d",
   "metadata": {},
   "outputs": [
    {
     "data": {
      "text/plain": [
       "34"
      ]
     },
     "execution_count": 80,
     "metadata": {},
     "output_type": "execute_result"
    }
   ],
   "source": [
    "kate.update_birthday()\n",
    "kate.age"
   ]
  },
  {
   "cell_type": "code",
   "execution_count": 23,
   "id": "ee428f0e-3859-4015-8429-703ea7bfcac1",
   "metadata": {},
   "outputs": [
    {
     "name": "stdout",
     "output_type": "stream",
     "text": [
      "Working hard!\n"
     ]
    }
   ],
   "source": [
    "kate.do_work()"
   ]
  },
  {
   "cell_type": "markdown",
   "id": "2875312f-c31b-4bdf-a33f-316e126acdc5",
   "metadata": {},
   "source": [
    "In the example above, while the class `Employee` doesn’t explicitly define the `greet()` method, it has access to it by the power of inheritance! You can also force inherited classes to conform to a certain behavior using [abstract base classes](https://datagy.io/python-abc-abstract-base-class/)."
   ]
  },
  {
   "cell_type": "markdown",
   "id": "ae7d9317-8e7b-410e-a33d-d91ca9ccab97",
   "metadata": {},
   "source": [
    "## Polymorphism in Python Classes\n"
   ]
  },
  {
   "cell_type": "markdown",
   "id": "3d7140c9-7773-4559-930c-51bd0b45485e",
   "metadata": {},
   "source": [
    "Now, let’s say you wanted to ensure that your employees used a more formal greeting. The parent class, `Person`, you defined earlier already has a `greet()` method. Let’s see how you can modify the behavior of the child class, `Employee`, to have its own unique greeting.\n",
    "\n",
    "In Python, polymorphism is as simple as defining that method itself in the child class. This allows you to have overwrite any parent methods without needing to worry about any overhead. Let’s see how we can implement this:"
   ]
  },
  {
   "cell_type": "code",
   "execution_count": 93,
   "id": "4f8995f6-6805-4bd6-940b-7ac2ce414f87",
   "metadata": {},
   "outputs": [],
   "source": [
    "class Employee(Person):\n",
    "    def __init__(self, name, age, company, employee_number, income):\n",
    "        super().__init__(name, age, company)\n",
    "        self.employee_number = employee_number\n",
    "        self.income = income\n",
    "\n",
    "    def greet(self):\n",
    "        print('Welcome! How may I help you?')\n",
    "\n",
    "    def do_work(self):\n",
    "        print(\"Working hard!\")"
   ]
  },
  {
   "cell_type": "code",
   "execution_count": 95,
   "id": "867e6d3e-31ef-4c6e-aa17-89893e8d4ced",
   "metadata": {},
   "outputs": [
    {
     "name": "stdout",
     "output_type": "stream",
     "text": [
      "Welcome! How may I help you?\n"
     ]
    }
   ],
   "source": [
    "kate = Employee('Kate', 33, 'government', employee_number=12345, income=90000)\n",
    "kate.greet()"
   ]
  },
  {
   "cell_type": "markdown",
   "id": "5e3fc298-2260-4068-bc87-03d326274fdb",
   "metadata": {},
   "source": [
    "Here, you defined a new method `greet()` that behaves differently than the method of the same name in the parent class. This process is known as **method overriding**. Polymorphism allows you to access the overridden methods and attributes in a child class."
   ]
  },
  {
   "cell_type": "markdown",
   "id": "488a3a4d-06a8-4b52-857d-03292f326c84",
   "metadata": {},
   "source": [
    "## When Should You Use Object-Oriented Programming?\n"
   ]
  },
  {
   "cell_type": "markdown",
   "id": "6365f317-018e-4cbe-9b5e-24c083356c29",
   "metadata": {},
   "source": [
    "So, you’ve learned quite a lot about object-oriented programming in Python. You may still be wondering, “How does this apply to learning data science in Python?” In many cases, procedural programming may be enough for you at the beginning. There are two key reasons why you’ll want to learn object-oriented programming even if you’re primarily relying on procedural programming."
   ]
  },
  {
   "cell_type": "markdown",
   "id": "6b312074-a41b-42e5-837a-11e16704d704",
   "metadata": {},
   "source": [
    "* Python objects are everywhere – literally. Everything in Python is an object (whether it be an integer or even a function). Understanding how object methods and attributes work allow you to better understand how Python itself works. Objects are a critical part of data science libraries. Understanding, for example, that a DataFrame is an object opens up the understanding of how DataFrame methods can work to manipulate your data.\n",
    "* Object-oriented programming in Python allows you to organize your code. Not every project requires you to use object-oriented programming. But once your program gains complexity and / or users, it may be helpful to start thinking of object-oriented programming. Similar to how functions allow you to organize and abstract code, objects do as well."
   ]
  },
  {
   "cell_type": "markdown",
   "id": "1b9276cc-5588-4972-a088-5db7d824353d",
   "metadata": {},
   "source": [
    "## Exercises"
   ]
  },
  {
   "cell_type": "markdown",
   "id": "7af858a1-2160-410f-8c29-2186ce18344e",
   "metadata": {},
   "source": [
    "Develop an Employee method that gives the employee a 10% raise.\n",
    "\n",
    "<details><summary>Click here for the solution</summary>\n",
    "\n",
    "```python\n",
    "\n",
    "    class Employee(Person):\n",
    "        def __init__(self, name, age, company, employee_number, income):\n",
    "            super().__init__(name, age, company)\n",
    "            self.employee_number = employee_number\n",
    "            self.income = income\n",
    "\n",
    "        def get_raise(self):\n",
    "            self.income *= 1.1\n",
    "\n",
    "```\n",
    "\n",
    "</details>\n"
   ]
  },
  {
   "cell_type": "markdown",
   "id": "453a7949-0f81-41d2-be9f-335cf8a4ba76",
   "metadata": {},
   "source": [
    "Python methods can also take arguments. Modify the greet() method in the Person class to pass in a person’s name to personalize the greeting."
   ]
  },
  {
   "cell_type": "markdown",
   "id": "946f2d83-9a82-4a0f-8b69-ffb699afaa30",
   "metadata": {},
   "source": [
    "<details><summary>Click here for the solution</summary>\n",
    "\n",
    "```python\n",
    "\n",
    "    class Person:\n",
    "        type = 'Human'\n",
    "\n",
    "        def __init__(self, name, age, company):\n",
    "            self.name = name\n",
    "            self.age = age\n",
    "            self.company = company\n",
    "\n",
    "        def greet(self, greeting_name):\n",
    "            print('Hi there ', greeting_name,'! My name is ', self.name)\n",
    "\n",
    "```\n",
    "\n",
    "</details>\n"
   ]
  },
  {
   "cell_type": "markdown",
   "id": "d7d76b7a-0929-4209-96f3-adf106fdc6a5",
   "metadata": {},
   "source": [
    "What does super() do?"
   ]
  },
  {
   "cell_type": "markdown",
   "id": "48bea335-89aa-4451-a951-9d2cfcb28417",
   "metadata": {},
   "source": [
    "<details><summary>Click here for the solution</summary>\n",
    "\n",
    "```python\n",
    "\n",
    "    In Python, super() is a built-in function that is used to call a method of a parent class in an inherited class.\n",
    "    When a subclass overrides a method defined in its superclass, it may still want to use the implementation of the parent class's method. In such cases, the super() function can be used to call the overridden method in the parent class.\n",
    "\n",
    "```\n",
    "\n",
    "</details>"
   ]
  }
 ],
 "metadata": {
  "kernelspec": {
   "display_name": "Python 3",
   "language": "python",
   "name": "python3"
  },
  "language_info": {
   "codemirror_mode": {
    "name": "ipython",
    "version": 3
   },
   "file_extension": ".py",
   "mimetype": "text/x-python",
   "name": "python",
   "nbconvert_exporter": "python",
   "pygments_lexer": "ipython3",
   "version": "3.8.8"
  }
 },
 "nbformat": 4,
 "nbformat_minor": 5
}
