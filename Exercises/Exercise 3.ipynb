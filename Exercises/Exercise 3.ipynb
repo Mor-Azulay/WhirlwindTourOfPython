{
 "cells": [
  {
   "cell_type": "markdown",
   "id": "51a728fc-0aaa-43e8-a494-b8577c8f76b0",
   "metadata": {},
   "source": [
    "# Exercise 3\n",
    "___"
   ]
  },
  {
   "cell_type": "markdown",
   "id": "1b1e3edc-2668-4afc-8ca3-3353afbcd8e5",
   "metadata": {},
   "source": [
    "## 1: - Array Reversal\n",
    "\n",
    "The problem is that we want to reverse a T[] array in O(N) linear time complexity and we want the algorithm to be in-place as well - so no additional memory can be used!\n",
    "\n",
    "For example: input is [1,2,3,4,5] then the output is [5,4,3,2,1]"
   ]
  },
  {
   "cell_type": "code",
   "execution_count": 1,
   "id": "d25d473b-c879-4c72-a2df-04309023593d",
   "metadata": {},
   "outputs": [],
   "source": [
    "# Write your code below. Don't forget to press Shift+Enter to execute the cell\n",
    "def my_inplace_reverse(arr):\n",
    "    pass"
   ]
  },
  {
   "cell_type": "markdown",
   "id": "09c69b73-8fb5-4f98-88e0-68ce2e2c5624",
   "metadata": {},
   "source": [
    "<details><summary>Click here for the solution</summary>\n",
    "\n",
    "```python\n",
    "def my_inplace_reverse_1(arr):\n",
    "    l = len(arr)\n",
    "    stop_at = int(l/2)\n",
    "    for i in range(stop_at):\n",
    "        tmp = arr[i]\n",
    "        arr[i] = arr[l-i-1]\n",
    "        arr[l-i-1] = tmp\n",
    "    return arr\n",
    "```\n",
    "\n",
    "</details>\n"
   ]
  },
  {
   "cell_type": "code",
   "execution_count": 2,
   "id": "8b4e0482-25e6-4b19-902a-d1ba333319b9",
   "metadata": {},
   "outputs": [
    {
     "ename": "AssertionError",
     "evalue": "",
     "output_type": "error",
     "traceback": [
      "\u001b[0;31m---------------------------------------------------------------------------\u001b[0m",
      "\u001b[0;31mAssertionError\u001b[0m                            Traceback (most recent call last)",
      "\u001b[0;32m<ipython-input-2-ce79785fadf3>\u001b[0m in \u001b[0;36m<module>\u001b[0;34m\u001b[0m\n\u001b[1;32m      1\u001b[0m \u001b[0marr\u001b[0m \u001b[0;34m=\u001b[0m \u001b[0;34m[\u001b[0m\u001b[0;36m1\u001b[0m\u001b[0;34m,\u001b[0m \u001b[0;36m2\u001b[0m\u001b[0;34m,\u001b[0m \u001b[0;36m3\u001b[0m\u001b[0;34m,\u001b[0m \u001b[0;36m4\u001b[0m\u001b[0;34m,\u001b[0m \u001b[0;36m5\u001b[0m\u001b[0;34m,\u001b[0m \u001b[0;36m6\u001b[0m\u001b[0;34m,\u001b[0m \u001b[0;36m7\u001b[0m\u001b[0;34m,\u001b[0m \u001b[0;36m8\u001b[0m\u001b[0;34m]\u001b[0m\u001b[0;34m\u001b[0m\u001b[0;34m\u001b[0m\u001b[0m\n\u001b[0;32m----> 2\u001b[0;31m \u001b[0;32massert\u001b[0m \u001b[0mmy_inplace_reverse\u001b[0m\u001b[0;34m(\u001b[0m\u001b[0marr\u001b[0m\u001b[0;34m)\u001b[0m \u001b[0;34m==\u001b[0m \u001b[0;34m[\u001b[0m\u001b[0;36m8\u001b[0m\u001b[0;34m,\u001b[0m \u001b[0;36m7\u001b[0m\u001b[0;34m,\u001b[0m \u001b[0;36m6\u001b[0m\u001b[0;34m,\u001b[0m \u001b[0;36m5\u001b[0m\u001b[0;34m,\u001b[0m \u001b[0;36m4\u001b[0m\u001b[0;34m,\u001b[0m \u001b[0;36m3\u001b[0m\u001b[0;34m,\u001b[0m \u001b[0;36m2\u001b[0m\u001b[0;34m,\u001b[0m \u001b[0;36m1\u001b[0m\u001b[0;34m]\u001b[0m\u001b[0;34m\u001b[0m\u001b[0;34m\u001b[0m\u001b[0m\n\u001b[0m\u001b[1;32m      3\u001b[0m \u001b[0mprint\u001b[0m\u001b[0;34m(\u001b[0m\u001b[0marr\u001b[0m\u001b[0;34m)\u001b[0m\u001b[0;34m\u001b[0m\u001b[0;34m\u001b[0m\u001b[0m\n",
      "\u001b[0;31mAssertionError\u001b[0m: "
     ]
    }
   ],
   "source": [
    "arr = [1, 2, 3, 4, 5, 6, 7, 8]\n",
    "assert my_inplace_reverse(arr) == [8, 7, 6, 5, 4, 3, 2, 1]\n",
    "print(arr)"
   ]
  },
  {
   "cell_type": "markdown",
   "id": "7021be5f-ad4e-400a-8232-06fc5938403e",
   "metadata": {},
   "source": [
    "## 2: Is Palindrom?"
   ]
  },
  {
   "cell_type": "markdown",
   "id": "7a623a4c-e6d7-42d8-9e65-c992b0b6c3f7",
   "metadata": {},
   "source": [
    "\n",
    "\"A palindrome is a string that reads the same forward and backward\"\n",
    "\n",
    "For example: radar or madam\n",
    "\n",
    "Our task is to design an optimal algorithm for checking whether a given string is palindrome or not! "
   ]
  },
  {
   "cell_type": "code",
   "execution_count": 3,
   "id": "33dd4806-0cc7-4816-92c1-7f0e8b26d195",
   "metadata": {},
   "outputs": [],
   "source": [
    "is_pol = 'abcdedcba'\n",
    "not_pol = 'abcdedcbd'"
   ]
  },
  {
   "cell_type": "code",
   "execution_count": 4,
   "id": "0c89899a-b0e1-44bb-972a-f51720dcbd74",
   "metadata": {},
   "outputs": [],
   "source": [
    "# Write your code below. Don't forget to press Shift+Enter to execute the cell\n",
    "def is_palindrom(s):\n",
    "    pass"
   ]
  },
  {
   "cell_type": "markdown",
   "id": "d8d261e3-5e30-4974-9d36-b59f63c6753d",
   "metadata": {},
   "source": [
    "<details><summary>Click here for the solution</summary>\n",
    "\n",
    "```python\n",
    "def is_polindrom(s):\n",
    "    start_index = 0\n",
    "    end_index = len(s) -1\n",
    "    while start_index < end_index:\n",
    "        if s[start_index] != s[end_index]:\n",
    "            return False\n",
    "        start_index +=1\n",
    "        end_index -=1\n",
    "    return True\n",
    "```\n",
    "\n",
    "</details>"
   ]
  },
  {
   "cell_type": "code",
   "execution_count": 5,
   "id": "73a2678b-6041-4720-b7a9-5bba9a2ce96f",
   "metadata": {},
   "outputs": [
    {
     "ename": "NameError",
     "evalue": "name 'is_polindrom' is not defined",
     "output_type": "error",
     "traceback": [
      "\u001b[0;31m---------------------------------------------------------------------------\u001b[0m",
      "\u001b[0;31mNameError\u001b[0m                                 Traceback (most recent call last)",
      "\u001b[0;32m<ipython-input-5-0d1b16d04645>\u001b[0m in \u001b[0;36m<module>\u001b[0;34m\u001b[0m\n\u001b[0;32m----> 1\u001b[0;31m \u001b[0;32massert\u001b[0m \u001b[0mis_polindrom\u001b[0m\u001b[0;34m(\u001b[0m\u001b[0mis_pol\u001b[0m\u001b[0;34m)\u001b[0m\u001b[0;34m\u001b[0m\u001b[0;34m\u001b[0m\u001b[0m\n\u001b[0m\u001b[1;32m      2\u001b[0m \u001b[0;32massert\u001b[0m \u001b[0;32mnot\u001b[0m \u001b[0mis_polindrom\u001b[0m\u001b[0;34m(\u001b[0m\u001b[0mnot_pol\u001b[0m\u001b[0;34m)\u001b[0m\u001b[0;34m\u001b[0m\u001b[0;34m\u001b[0m\u001b[0m\n",
      "\u001b[0;31mNameError\u001b[0m: name 'is_polindrom' is not defined"
     ]
    }
   ],
   "source": [
    "assert is_polindrom(is_pol)\n",
    "assert not is_polindrom(not_pol)"
   ]
  },
  {
   "cell_type": "markdown",
   "id": "2499c4ba-061e-4a98-b1d9-0e89fa2c8157",
   "metadata": {},
   "source": [
    "<details><summary>Click here for another, more elegant solution</summary>\n",
    "\n",
    "```python\n",
    "    \n",
    "def is_polindrom_2(s):\n",
    "    return s == ''.join(reversed(s))\n",
    "```\n",
    "\n",
    "</details>"
   ]
  },
  {
   "cell_type": "markdown",
   "id": "53339dc7-2cfe-4071-b04c-a0df3e9d1600",
   "metadata": {},
   "source": [
    "## 3: Integer reversion"
   ]
  },
  {
   "cell_type": "markdown",
   "id": "8869c4fb-a58e-4b75-8c71-56073f904294",
   "metadata": {},
   "source": [
    "Our task is to design an efficient algorithm to reverse a given integer. For example if the input of the algorithm is 1234 then the output should be 4321."
   ]
  },
  {
   "cell_type": "code",
   "execution_count": 6,
   "id": "5301a83f-a502-469d-97f1-a768aef612b5",
   "metadata": {},
   "outputs": [],
   "source": [
    "i = 12340"
   ]
  },
  {
   "cell_type": "code",
   "execution_count": 7,
   "id": "0e5d2270-c0f7-4303-beed-7c0d374591d9",
   "metadata": {},
   "outputs": [],
   "source": [
    "# Write your code below. Don't forget to press Shift+Enter to execute the cell\n",
    "def my_int_reverse(i):\n",
    "    pass"
   ]
  },
  {
   "cell_type": "markdown",
   "id": "53dec0a3-435e-44ef-b970-b17c5897e959",
   "metadata": {},
   "source": [
    "<details><summary>Click here for some solutions</summary>\n",
    "\n",
    "```python\n",
    "    \n",
    "def my_int_reverse(i):\n",
    "    residual = i\n",
    "    rev_digits = []\n",
    "    while residual > 0:\n",
    "        residual, mod = divmod(residual,10)\n",
    "        rev_digits.append(mod)\n",
    "    rev_int = 0\n",
    "    n_digits = len(rev_digits)\n",
    "    for i in range(len(rev_digits)):\n",
    "        rev_int += rev_digits[i] * 10 ** (n_digits - 1 - i)\n",
    "    return rev_int\n",
    "    \n",
    "def my_int_reverse(i):\n",
    "    residual = i\n",
    "    rev_int = 0\n",
    "    while residual > 0:\n",
    "        residual, mod = divmod(residual,10)\n",
    "        rev_int = rev_int * 10 + mod\n",
    "    return rev_int\n",
    "    \n",
    "    \n",
    "def my_int_reverse(n):\n",
    "    rev_int = 0\n",
    "    while n > 0:\n",
    "        reminder = n % 10\n",
    "        rev_int = rev_int * 10 + reminder\n",
    "        n = n // 10\n",
    "    return rev_int\n",
    "```\n",
    "\n",
    "</details>"
   ]
  },
  {
   "cell_type": "code",
   "execution_count": 8,
   "id": "150fb177-4422-47c2-b248-a16a8884a5fc",
   "metadata": {},
   "outputs": [
    {
     "ename": "AssertionError",
     "evalue": "",
     "output_type": "error",
     "traceback": [
      "\u001b[0;31m---------------------------------------------------------------------------\u001b[0m",
      "\u001b[0;31mAssertionError\u001b[0m                            Traceback (most recent call last)",
      "\u001b[0;32m<ipython-input-8-f1529bcc16cf>\u001b[0m in \u001b[0;36m<module>\u001b[0;34m\u001b[0m\n\u001b[0;32m----> 1\u001b[0;31m \u001b[0;32massert\u001b[0m\u001b[0;34m(\u001b[0m\u001b[0mmy_int_reverse\u001b[0m\u001b[0;34m(\u001b[0m\u001b[0mi\u001b[0m\u001b[0;34m)\u001b[0m \u001b[0;34m==\u001b[0m \u001b[0;36m4321\u001b[0m\u001b[0;34m)\u001b[0m\u001b[0;34m\u001b[0m\u001b[0;34m\u001b[0m\u001b[0m\n\u001b[0m\u001b[1;32m      2\u001b[0m \u001b[0mprint\u001b[0m\u001b[0;34m(\u001b[0m\u001b[0mmy_int_reverse\u001b[0m\u001b[0;34m(\u001b[0m\u001b[0mi\u001b[0m\u001b[0;34m)\u001b[0m\u001b[0;34m)\u001b[0m\u001b[0;34m\u001b[0m\u001b[0;34m\u001b[0m\u001b[0m\n",
      "\u001b[0;31mAssertionError\u001b[0m: "
     ]
    }
   ],
   "source": [
    "assert(my_int_reverse(i) == 4321)\n",
    "print(my_int_reverse(i))"
   ]
  }
 ],
 "metadata": {
  "kernelspec": {
   "display_name": "Python 3",
   "language": "python",
   "name": "python3"
  },
  "language_info": {
   "codemirror_mode": {
    "name": "ipython",
    "version": 3
   },
   "file_extension": ".py",
   "mimetype": "text/x-python",
   "name": "python",
   "nbconvert_exporter": "python",
   "pygments_lexer": "ipython3",
   "version": "3.8.8"
  }
 },
 "nbformat": 4,
 "nbformat_minor": 5
}
