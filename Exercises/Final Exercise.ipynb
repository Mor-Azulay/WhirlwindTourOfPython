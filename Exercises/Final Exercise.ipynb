{
 "cells": [
  {
   "cell_type": "markdown",
   "id": "1be4ca61-a9a1-4c7c-8a09-00c819f264ac",
   "metadata": {},
   "source": [
    "# Final Exercise - Python for Data Science"
   ]
  },
  {
   "cell_type": "markdown",
   "id": "60f2e2d5-4fbf-4a24-aca1-88e1054b2c5e",
   "metadata": {},
   "source": [
    "* Timing question\n",
    "* OOP question\n",
    "* Lin algebra question\n",
    "* "
   ]
  },
  {
   "cell_type": "markdown",
   "id": "bf0455d4-73cf-4268-854c-f5d9d6012648",
   "metadata": {},
   "source": [
    "## Matrix multiplication"
   ]
  },
  {
   "cell_type": "markdown",
   "id": "44785810-62b6-47b2-bbd1-f32b552806fb",
   "metadata": {},
   "source": [
    "Given the following two matrices, compute the product between them:\n",
    "* Implement with basic python\n",
    "* Implement with numpy\n",
    "* use the `%timeit` magic to compare the running time of both implementations"
   ]
  },
  {
   "cell_type": "code",
   "execution_count": 1,
   "id": "19c1af59-5cc2-43b8-a3cc-9295e54879b6",
   "metadata": {},
   "outputs": [],
   "source": [
    "matrix1 = [[1, 2, 3],\n",
    "           [4, 5, 6],\n",
    "           [7, 8, 9]]"
   ]
  },
  {
   "cell_type": "code",
   "execution_count": 2,
   "id": "8eb222b2-1876-45a5-9b4b-868edafb701f",
   "metadata": {},
   "outputs": [],
   "source": [
    "matrix2 = [[9, 8, 7],\n",
    "           [6, 5, 4],\n",
    "           [3, 2, 1]]"
   ]
  },
  {
   "cell_type": "code",
   "execution_count": 3,
   "id": "4bbb08dd-c941-40b4-95b1-fc97cd348083",
   "metadata": {},
   "outputs": [],
   "source": [
    "expected_result = [[30, 24, 18],\n",
    "                   [84, 69, 54],\n",
    "                   [138, 114, 90]]"
   ]
  },
  {
   "cell_type": "markdown",
   "id": "b2851437-f547-43ae-a4f0-fffe2a1eac48",
   "metadata": {},
   "source": [
    "## Gradient decent"
   ]
  },
  {
   "cell_type": "markdown",
   "id": "62582107-cdab-46d0-944d-e6dfa88f6601",
   "metadata": {},
   "source": [
    "## OOP design"
   ]
  },
  {
   "cell_type": "markdown",
   "id": "594d777d-9304-4129-971d-00060c100c0b",
   "metadata": {},
   "source": [
    "Suppose you're working on a program for a pet store, and you need to represent different kinds of pets. You decide to use object-oriented programming to model your solution. You start by creating a base class called Pet that has common attributes and methods, and then create two subclasses Dog and Cat that inherit from Pet and add their own unique attributes and methods.\n",
    "\n",
    "Implement in OOP the following attributes and methods:\n",
    "* Attributes: \n",
    "  * name, age, breed, food type, sound, height, weight. \n",
    "  * For cats only: color\n",
    "  * For dogs only: is_working_dog\n",
    "* Methods: \n",
    "  * `make_sound()` that will print the sounds attribute\n",
    "  * `is_overweight()` - calculates the pet BMI and returns True of False in case of Over/Under 25\n",
    "  * `get_nemesis()` - returns the name of the pet enemy"
   ]
  },
  {
   "cell_type": "code",
   "execution_count": null,
   "id": "fe8f90b1-3435-4fdd-8194-35171814d00c",
   "metadata": {},
   "outputs": [],
   "source": []
  }
 ],
 "metadata": {
  "kernelspec": {
   "display_name": "py38",
   "language": "python",
   "name": "py38"
  },
  "language_info": {
   "codemirror_mode": {
    "name": "ipython",
    "version": 3
   },
   "file_extension": ".py",
   "mimetype": "text/x-python",
   "name": "python",
   "nbconvert_exporter": "python",
   "pygments_lexer": "ipython3",
   "version": "3.8.8"
  }
 },
 "nbformat": 4,
 "nbformat_minor": 5
}
