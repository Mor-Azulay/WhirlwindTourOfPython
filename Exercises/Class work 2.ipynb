{
 "cells": [
  {
   "cell_type": "markdown",
   "id": "9906d990-5f48-4e93-931b-62047b0288dc",
   "metadata": {},
   "source": [
    "# Class work 1"
   ]
  },
  {
   "cell_type": "markdown",
   "id": "9cd5c56f-50cb-49b9-8030-6ed2d3a1b76d",
   "metadata": {},
   "source": [
    "## EX1"
   ]
  },
  {
   "cell_type": "markdown",
   "id": "a8dac33d-98e7-45b7-9f59-8f9e90a13b3c",
   "metadata": {},
   "source": [
    "unpack the following list into 5 varaibles:"
   ]
  },
  {
   "cell_type": "code",
   "execution_count": 2,
   "id": "91814492-12b5-4731-8501-14b53792fe2f",
   "metadata": {},
   "outputs": [],
   "source": [
    "l = [5, ('a','b'), (90, 100)]"
   ]
  },
  {
   "cell_type": "markdown",
   "id": "d98561d9-0e8b-4923-a106-e2428d68f0c0",
   "metadata": {},
   "source": [
    "Write a function that counts the words in the followng text and presents the top 10 words with their counts:"
   ]
  },
  {
   "cell_type": "markdown",
   "id": "59bd73d5-97cb-4a36-9120-1d93085a0228",
   "metadata": {},
   "source": [
    "## EX2"
   ]
  },
  {
   "cell_type": "code",
   "execution_count": 1,
   "id": "2392566f-f430-424f-b88a-279ad728640e",
   "metadata": {},
   "outputs": [],
   "source": [
    "text = \"\"\"\n",
    "Machine learning (ML) is a field of inquiry devoted to understanding and building methods that \"learn\" – \n",
    "that is, methods that leverage data to improve performance on some set of tasks.\n",
    "It is seen as a part of artificial intelligence.\n",
    "Machine learning algorithms build a model based on sample data, \n",
    "known as training data, \n",
    "in order to make predictions or decisions without being explicitly programmed to do so.\n",
    "[2] Machine learning algorithms are used in a wide variety of applications, such as in medicine, \n",
    "email filtering, speech recognition, agriculture, and computer vision, where it is \n",
    "difficult or unfeasible to develop conventional algorithms to perform the needed tasks.[3][4]\n",
    "\"\"\""
   ]
  },
  {
   "cell_type": "markdown",
   "id": "744de621-8d32-47ee-aeeb-b3f13ec66c4e",
   "metadata": {},
   "source": [
    "# EX 3"
   ]
  },
  {
   "cell_type": "markdown",
   "id": "051a0640-5e60-436d-84d7-2c89a8a2e575",
   "metadata": {},
   "source": [
    "* create a list with the even numbers from 1 to 100.\n",
    "* create a list with with the odd numbers from 1 to 100, without that divide in 13.\n",
    "* create a list with with the odd numbers from 1 to 100, without prime numbers.\n",
    "* create a dictionary with the numbers from 1 to 100 as keys, and thier cube as values.\n",
    "* reverse the above dictionary - make the cubes as keys and the roots as values"
   ]
  },
  {
   "cell_type": "markdown",
   "id": "b28ffde5-2d6d-4cd8-b3d1-45d7ab725325",
   "metadata": {},
   "source": [
    "# EX 4"
   ]
  },
  {
   "cell_type": "code",
   "execution_count": 5,
   "id": "7f16e353-0b35-4ce7-84f2-f35be4839b94",
   "metadata": {},
   "outputs": [],
   "source": [
    "fruits = ['Apples', 'Oranges', 'Bananas']\n",
    "colors = ['green', 'oranges', 'bananas']"
   ]
  },
  {
   "cell_type": "markdown",
   "id": "07674810-33c2-486a-850a-52f4f7262377",
   "metadata": {},
   "source": [
    "Write a code to transform the two lists to a dictionary with the fruits as keys and the colors as vslues."
   ]
  },
  {
   "cell_type": "code",
   "execution_count": null,
   "id": "c04db18f-23ed-4d92-a020-e94e7a1544c7",
   "metadata": {},
   "outputs": [],
   "source": []
  }
 ],
 "metadata": {
  "kernelspec": {
   "display_name": "Python 3",
   "language": "python",
   "name": "python3"
  },
  "language_info": {
   "codemirror_mode": {
    "name": "ipython",
    "version": 3
   },
   "file_extension": ".py",
   "mimetype": "text/x-python",
   "name": "python",
   "nbconvert_exporter": "python",
   "pygments_lexer": "ipython3",
   "version": "3.8.8"
  }
 },
 "nbformat": 4,
 "nbformat_minor": 5
}
