{
 "cells": [
  {
   "cell_type": "markdown",
   "id": "9906d990-5f48-4e93-931b-62047b0288dc",
   "metadata": {},
   "source": [
    "# Class work 1"
   ]
  },
  {
   "cell_type": "markdown",
   "id": "9cd5c56f-50cb-49b9-8030-6ed2d3a1b76d",
   "metadata": {},
   "source": [
    "## EX1"
   ]
  },
  {
   "cell_type": "markdown",
   "id": "a8dac33d-98e7-45b7-9f59-8f9e90a13b3c",
   "metadata": {},
   "source": [
    "unpack the following list into 5 varaibles:"
   ]
  },
  {
   "cell_type": "code",
   "execution_count": 21,
   "id": "91814492-12b5-4731-8501-14b53792fe2f",
   "metadata": {},
   "outputs": [],
   "source": [
    "l = [5, ('a','b'), (90, 100)]"
   ]
  },
  {
   "cell_type": "markdown",
   "id": "d98561d9-0e8b-4923-a106-e2428d68f0c0",
   "metadata": {},
   "source": [
    "Write a function that counts the words in the followng text and presents the top 10 words with their counts:"
   ]
  },
  {
   "cell_type": "code",
   "execution_count": 18,
   "id": "53ecc04a-b7bc-4bad-9dbf-20ebcdcf5f15",
   "metadata": {},
   "outputs": [
    {
     "name": "stdout",
     "output_type": "stream",
     "text": [
      "5\n",
      "('a', 'b')\n",
      "(90, 100)\n"
     ]
    }
   ],
   "source": [
    "val_1, val_2, val_3 = l\n",
    "a = val_1\n",
    "b,c= val_2\n",
    "d,e = val_3\n",
    "print(val_1)\n",
    "print(val_2)\n",
    "print(val_3)"
   ]
  },
  {
   "cell_type": "code",
   "execution_count": 22,
   "id": "a0d9b38f-0564-4cbc-895e-7414ac9f7b37",
   "metadata": {},
   "outputs": [],
   "source": [
    "a, (b, c), (e, d) = l"
   ]
  },
  {
   "cell_type": "code",
   "execution_count": 23,
   "id": "10924970-b35e-48b8-8dad-2a768ec1cbc7",
   "metadata": {},
   "outputs": [],
   "source": [
    "l = [(1, 2), (3, 4)]"
   ]
  },
  {
   "cell_type": "code",
   "execution_count": 25,
   "id": "0e9be115-de6a-440e-869b-8f51eb3a3fdf",
   "metadata": {},
   "outputs": [
    {
     "name": "stdout",
     "output_type": "stream",
     "text": [
      "0 1 2\n",
      "1 3 4\n"
     ]
    }
   ],
   "source": [
    "for i, (v1, v2) in enumerate(l):\n",
    "    print(i, v1, v2)\n",
    "    "
   ]
  },
  {
   "cell_type": "code",
   "execution_count": 26,
   "id": "2d9d5661-4957-4554-ada6-0dbae0c6c0dc",
   "metadata": {},
   "outputs": [
    {
     "name": "stdout",
     "output_type": "stream",
     "text": [
      "(1, 2)\n",
      "0 1 2\n",
      "(3, 4)\n",
      "1 3 4\n"
     ]
    }
   ],
   "source": [
    "for i, (v) in enumerate(l):\n",
    "    print(elem)\n",
    "    v1, v2 = elem\n",
    "    print(i, v1, v2)\n",
    "    "
   ]
  },
  {
   "cell_type": "markdown",
   "id": "59bd73d5-97cb-4a36-9120-1d93085a0228",
   "metadata": {},
   "source": [
    "## EX2"
   ]
  },
  {
   "cell_type": "code",
   "execution_count": null,
   "id": "a5cd53dc-edde-48b7-bc60-a434d34750fd",
   "metadata": {},
   "outputs": [],
   "source": [
    "\"a\"\n",
    "'a'\n",
    "\"\"\"\n",
    "this \n",
    "is \n",
    "a multiline\n",
    "string\n",
    "\"\"\""
   ]
  },
  {
   "cell_type": "code",
   "execution_count": 1,
   "id": "2392566f-f430-424f-b88a-279ad728640e",
   "metadata": {},
   "outputs": [],
   "source": [
    "text = \"\"\"\n",
    "Machine learning (ML) is a field of inquiry devoted to understanding and building methods that \"learn\" – \n",
    "that is, methods that leverage data to improve performance on some set of tasks.\n",
    "It is seen as a part of artificial intelligence.\n",
    "Machine learning algorithms build a model based on sample data, \n",
    "known as training data, \n",
    "in order to make predictions or decisions without being explicitly programmed to do so.\n",
    "[2] Machine learning algorithms are used in a wide variety of applications, such as in medicine, \n",
    "email filtering, speech recognition, agriculture, and computer vision, where it is \n",
    "difficult or unfeasible to develop conventional algorithms to perform the needed tasks.[3][4]\n",
    "\"\"\""
   ]
  },
  {
   "cell_type": "code",
   "execution_count": 29,
   "id": "aa9fa433-6474-48a1-8646-488ff86abbfc",
   "metadata": {},
   "outputs": [
    {
     "name": "stdout",
     "output_type": "stream",
     "text": [
      "True\n",
      "False\n"
     ]
    }
   ],
   "source": [
    "x = {'a':1}\n",
    "print('a' in x)\n",
    "print('b' in x)"
   ]
  },
  {
   "cell_type": "code",
   "execution_count": 28,
   "id": "87fc3905-d794-49cd-879a-a982f1a4630d",
   "metadata": {},
   "outputs": [
    {
     "data": {
      "text/plain": [
       "{'a': 1}"
      ]
     },
     "execution_count": 28,
     "metadata": {},
     "output_type": "execute_result"
    }
   ],
   "source": [
    "x"
   ]
  },
  {
   "cell_type": "code",
   "execution_count": 7,
   "id": "eaae8e37-66c7-4a08-b01d-f48a27da8637",
   "metadata": {},
   "outputs": [],
   "source": [
    "word_counts = {}\n",
    "for w in text.split():\n",
    "    if w in word_counts:\n",
    "        word_counts[w] += 1\n",
    "    else:\n",
    "        word_counts[w] = 1"
   ]
  },
  {
   "cell_type": "code",
   "execution_count": 31,
   "id": "6a3e4cb2-bf81-4cdc-8dc8-48b5bcef985b",
   "metadata": {
    "tags": []
   },
   "outputs": [
    {
     "data": {
      "text/plain": [
       "dict"
      ]
     },
     "execution_count": 31,
     "metadata": {},
     "output_type": "execute_result"
    }
   ],
   "source": [
    "type(word_counts)"
   ]
  },
  {
   "cell_type": "code",
   "execution_count": 36,
   "id": "1d513549-4190-4de2-a5c1-5cb54077e819",
   "metadata": {},
   "outputs": [
    {
     "data": {
      "text/plain": [
       "('Machine', 3)"
      ]
     },
     "execution_count": 36,
     "metadata": {},
     "output_type": "execute_result"
    }
   ],
   "source": [
    "list(word_counts.items())[0]"
   ]
  },
  {
   "cell_type": "code",
   "execution_count": 37,
   "id": "ed73ce6f-ddf5-494a-b596-8f4f0beb6937",
   "metadata": {
    "tags": []
   },
   "outputs": [
    {
     "data": {
      "text/plain": [
       "[('to', 6),\n",
       " ('a', 4),\n",
       " ('of', 4),\n",
       " ('Machine', 3),\n",
       " ('learning', 3),\n",
       " ('is', 3),\n",
       " ('that', 3),\n",
       " ('as', 3),\n",
       " ('algorithms', 3),\n",
       " ('in', 3)]"
      ]
     },
     "execution_count": 37,
     "metadata": {},
     "output_type": "execute_result"
    }
   ],
   "source": [
    "sorted_words = sorted(word_counts.items(), key=lambda x: x[1], reverse=True)\n",
    "sorted_words[:10]"
   ]
  },
  {
   "cell_type": "markdown",
   "id": "744de621-8d32-47ee-aeeb-b3f13ec66c4e",
   "metadata": {},
   "source": [
    "# EX 3"
   ]
  },
  {
   "cell_type": "markdown",
   "id": "051a0640-5e60-436d-84d7-2c89a8a2e575",
   "metadata": {},
   "source": [
    "* create a list with the even numbers from 1 to 10.\n",
    "* create a list with with the odd numbers from 1 to 10, without prime numbers.\n",
    "* create a dictionary with the numbers from 1 to 100 as keys, and thier cube as values.\n",
    "* reverse the above dictionary - make the cubes as keys and the roots as values"
   ]
  },
  {
   "cell_type": "markdown",
   "id": "ac1d8464-55a9-455f-881c-21f893bb832a",
   "metadata": {},
   "source": [
    "### even nummbers generatoin - solution"
   ]
  },
  {
   "cell_type": "code",
   "execution_count": 54,
   "id": "92d93392-7d1e-4240-a1ac-644e6276e09d",
   "metadata": {},
   "outputs": [
    {
     "data": {
      "text/plain": [
       "[0, 2, 4, 6, 8]"
      ]
     },
     "execution_count": 54,
     "metadata": {},
     "output_type": "execute_result"
    }
   ],
   "source": [
    "evens = []\n",
    "for i in range(10):\n",
    "    if i % 2 == 0:\n",
    "        evens.append(i)\n",
    "evens"
   ]
  },
  {
   "cell_type": "markdown",
   "id": "56f3d93c-38ee-4704-9a9a-4191acda05de",
   "metadata": {},
   "source": [
    "Or better, with list comprehension:"
   ]
  },
  {
   "cell_type": "code",
   "execution_count": 55,
   "id": "250946b8-06c7-4783-8db3-9e3c74ad3f3b",
   "metadata": {},
   "outputs": [
    {
     "data": {
      "text/plain": [
       "[0, 2, 4, 6, 8]"
      ]
     },
     "execution_count": 55,
     "metadata": {},
     "output_type": "execute_result"
    }
   ],
   "source": [
    "evens = [i for i in range(10) if i % 2 == 0]\n",
    "evens"
   ]
  },
  {
   "cell_type": "markdown",
   "id": "40f781dc-8fc8-4e93-95dd-d6c7fc059fe9",
   "metadata": {},
   "source": [
    "### dictionary with cubes - solution"
   ]
  },
  {
   "cell_type": "code",
   "execution_count": 56,
   "id": "75fe6215-2f4d-43d5-a3bc-9925fcb19ed1",
   "metadata": {},
   "outputs": [
    {
     "data": {
      "text/plain": [
       "{0: 0, 1: 1, 2: 8, 3: 27, 4: 64, 5: 125, 6: 216, 7: 343, 8: 512, 9: 729}"
      ]
     },
     "execution_count": 56,
     "metadata": {},
     "output_type": "execute_result"
    }
   ],
   "source": [
    "d = {}\n",
    "for i in range(10):\n",
    "    d[i] = i ** 3\n",
    "d"
   ]
  },
  {
   "cell_type": "markdown",
   "id": "18d1b771-01b2-4d44-9467-ce6ecb04cc5c",
   "metadata": {},
   "source": [
    "Or better, with dict comprehension:"
   ]
  },
  {
   "cell_type": "code",
   "execution_count": 60,
   "id": "252490a4-d925-4c16-9ddc-a5c64f41fa6a",
   "metadata": {},
   "outputs": [
    {
     "data": {
      "text/plain": [
       "{0: 0, 1: 1, 2: 8, 3: 27, 4: 64, 5: 125, 6: 216, 7: 343, 8: 512, 9: 729}"
      ]
     },
     "execution_count": 60,
     "metadata": {},
     "output_type": "execute_result"
    }
   ],
   "source": [
    "d = {i:i**3 for i in range(10)}\n",
    "d"
   ]
  },
  {
   "cell_type": "markdown",
   "id": "9fd2e48d-3015-45a6-bbc9-153273bf24d1",
   "metadata": {},
   "source": [
    "We can access the dictionary items as a sequance of tupples, using the `.items()` method. (Notice that `dict` object also has the `keys()` and `values()` methods which are very handy)"
   ]
  },
  {
   "cell_type": "code",
   "execution_count": 61,
   "id": "b0e6fe22-e588-4f08-baab-3ac85e5a197b",
   "metadata": {},
   "outputs": [
    {
     "data": {
      "text/plain": [
       "dict_items([(0, 0), (1, 1), (2, 8), (3, 27), (4, 64), (5, 125), (6, 216), (7, 343), (8, 512), (9, 729)])"
      ]
     },
     "execution_count": 61,
     "metadata": {},
     "output_type": "execute_result"
    }
   ],
   "source": [
    "d.items()"
   ]
  },
  {
   "cell_type": "markdown",
   "id": "935ccc60-ea6c-4889-9791-d4717e4b11cd",
   "metadata": {},
   "source": [
    "Let's use the dictionary items to reverse the key-value pairs:"
   ]
  },
  {
   "cell_type": "code",
   "execution_count": 62,
   "id": "fddfc7d4-32a7-4aaa-bc69-9f18ea9d7430",
   "metadata": {},
   "outputs": [],
   "source": [
    "rev_d = {v:k for k,v in d.items()}"
   ]
  },
  {
   "cell_type": "code",
   "execution_count": 63,
   "id": "d6f7334c-c156-4d64-9e9d-772492588ec8",
   "metadata": {},
   "outputs": [
    {
     "data": {
      "text/plain": [
       "{0: 0, 1: 1, 8: 2, 27: 3, 64: 4, 125: 5, 216: 6, 343: 7, 512: 8, 729: 9}"
      ]
     },
     "execution_count": 63,
     "metadata": {},
     "output_type": "execute_result"
    }
   ],
   "source": [
    "rev_d"
   ]
  },
  {
   "cell_type": "markdown",
   "id": "b28ffde5-2d6d-4cd8-b3d1-45d7ab725325",
   "metadata": {},
   "source": [
    "# EX 4"
   ]
  },
  {
   "cell_type": "code",
   "execution_count": 5,
   "id": "7f16e353-0b35-4ce7-84f2-f35be4839b94",
   "metadata": {},
   "outputs": [],
   "source": [
    "fruits = ['Apples', 'Oranges', 'Bananas']\n",
    "colors = ['green', 'oranges', 'bananas']"
   ]
  },
  {
   "cell_type": "markdown",
   "id": "07674810-33c2-486a-850a-52f4f7262377",
   "metadata": {},
   "source": [
    "Write a code to transform the two lists to a dictionary with the fruits as keys and the colors as vslues."
   ]
  },
  {
   "cell_type": "code",
   "execution_count": null,
   "id": "c04db18f-23ed-4d92-a020-e94e7a1544c7",
   "metadata": {},
   "outputs": [],
   "source": []
  }
 ],
 "metadata": {
  "kernelspec": {
   "display_name": "Python 3",
   "language": "python",
   "name": "python3"
  },
  "language_info": {
   "codemirror_mode": {
    "name": "ipython",
    "version": 3
   },
   "file_extension": ".py",
   "mimetype": "text/x-python",
   "name": "python",
   "nbconvert_exporter": "python",
   "pygments_lexer": "ipython3",
   "version": "3.8.8"
  }
 },
 "nbformat": 4,
 "nbformat_minor": 5
}
