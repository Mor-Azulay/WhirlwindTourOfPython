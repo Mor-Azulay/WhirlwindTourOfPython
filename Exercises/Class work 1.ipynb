{
 "cells": [
  {
   "cell_type": "markdown",
   "id": "9906d990-5f48-4e93-931b-62047b0288dc",
   "metadata": {},
   "source": [
    "# Class work 1"
   ]
  },
  {
   "cell_type": "markdown",
   "id": "d98561d9-0e8b-4923-a106-e2428d68f0c0",
   "metadata": {},
   "source": [
    "Write a function that given a string of text, seperated by space,  returns the same string but with each word capitalize."
   ]
  },
  {
   "cell_type": "code",
   "execution_count": 1,
   "id": "2392566f-f430-424f-b88a-279ad728640e",
   "metadata": {},
   "outputs": [],
   "source": [
    "text = 'ido david is the lacturer'"
   ]
  },
  {
   "cell_type": "code",
   "execution_count": 16,
   "id": "d6bcbb22-497c-46d8-8faa-e2269ce67072",
   "metadata": {},
   "outputs": [],
   "source": [
    "def capitalize_words_1(text):\n",
    "    cap_text = text\n",
    "    for word in text.split(' '):\n",
    "        cap_text = cap_text.replace(word, word.capitalize())\n",
    "    return cap_text"
   ]
  },
  {
   "cell_type": "code",
   "execution_count": 17,
   "id": "44e2ff5e-1486-4662-97bc-a1f7892f2d3f",
   "metadata": {},
   "outputs": [
    {
     "data": {
      "text/plain": [
       "'Ido David Is The Lacturer'"
      ]
     },
     "execution_count": 17,
     "metadata": {},
     "output_type": "execute_result"
    }
   ],
   "source": [
    "capitalize_words_1(text)"
   ]
  },
  {
   "cell_type": "code",
   "execution_count": 8,
   "id": "2a4d7f93-94e7-4b50-b104-6c62d537b90e",
   "metadata": {},
   "outputs": [],
   "source": [
    "def capitalize_words(text):\n",
    "    cap_text = []\n",
    "    for word in text.split(' '):\n",
    "        cap_text.append(word.capitalize())\n",
    "    return ' '.join(cap_text)"
   ]
  },
  {
   "cell_type": "code",
   "execution_count": 9,
   "id": "98f86d83-7867-492e-96ec-270042d6ac23",
   "metadata": {},
   "outputs": [
    {
     "data": {
      "text/plain": [
       "'Ido David Is The Lacturer'"
      ]
     },
     "execution_count": 9,
     "metadata": {},
     "output_type": "execute_result"
    }
   ],
   "source": [
    "capitalize_words(text)"
   ]
  },
  {
   "cell_type": "code",
   "execution_count": 13,
   "id": "99169a41-defb-436a-9a24-c0e49ba5317c",
   "metadata": {},
   "outputs": [],
   "source": [
    "def capitalize_each_word(s):\n",
    "    print(s.split())\n",
    "    cap_words = [word.capitalize() for word in s.split()]\n",
    "    print(cap_words)\n",
    "    return \" \".join(cap_words)"
   ]
  },
  {
   "cell_type": "code",
   "execution_count": 14,
   "id": "971b003a-0b39-4e43-adf4-ce5d13fa7c72",
   "metadata": {},
   "outputs": [
    {
     "name": "stdout",
     "output_type": "stream",
     "text": [
      "['ido', 'david', 'is', 'the', 'lacturer']\n",
      "['Ido', 'David', 'Is', 'The', 'Lacturer']\n"
     ]
    },
    {
     "data": {
      "text/plain": [
       "'Ido David Is The Lacturer'"
      ]
     },
     "execution_count": 14,
     "metadata": {},
     "output_type": "execute_result"
    }
   ],
   "source": [
    "capitalize_each_word(text)"
   ]
  },
  {
   "cell_type": "code",
   "execution_count": null,
   "id": "0b712fe0-8bd0-467d-907c-39dfa7679708",
   "metadata": {},
   "outputs": [],
   "source": []
  }
 ],
 "metadata": {
  "kernelspec": {
   "display_name": "Python 3",
   "language": "python",
   "name": "python3"
  },
  "language_info": {
   "codemirror_mode": {
    "name": "ipython",
    "version": 3
   },
   "file_extension": ".py",
   "mimetype": "text/x-python",
   "name": "python",
   "nbconvert_exporter": "python",
   "pygments_lexer": "ipython3",
   "version": "3.8.8"
  }
 },
 "nbformat": 4,
 "nbformat_minor": 5
}
