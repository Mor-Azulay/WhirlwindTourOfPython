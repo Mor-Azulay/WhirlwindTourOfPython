{
 "cells": [
  {
   "cell_type": "markdown",
   "id": "031d5e49-079a-4d5d-a071-cf79ab50f7cf",
   "metadata": {},
   "source": [
    "# Class work 3"
   ]
  },
  {
   "cell_type": "markdown",
   "id": "73924495-9e34-4541-91d5-dd25cb890f22",
   "metadata": {},
   "source": [
    "## Data generation"
   ]
  },
  {
   "cell_type": "code",
   "execution_count": 20,
   "id": "cea49277-3880-4851-b1ab-2ec2825f9033",
   "metadata": {},
   "outputs": [],
   "source": [
    "import numpy as np"
   ]
  },
  {
   "cell_type": "code",
   "execution_count": 29,
   "id": "f2cc3e49-e70e-4259-8914-3d84c282486f",
   "metadata": {},
   "outputs": [],
   "source": [
    "arr_1 = 2 + 0.5 * np.random.randn(10)\n",
    "vec_1 = list(arr_1)\n",
    "arr_2 = 4 + 0.25 * np.random.randn(100)\n",
    "vec_2 = list(arr_2)"
   ]
  },
  {
   "cell_type": "code",
   "execution_count": 24,
   "id": "b92352e0-3c2c-4698-8939-0527fe6ca9ff",
   "metadata": {},
   "outputs": [
    {
     "data": {
      "text/plain": [
       "[(2.147818906285499, 4.18314669276119),\n",
       " (2.20430984562554, 3.854011327132967),\n",
       " (2.3702751743551147, 3.861024337878825),\n",
       " (1.6758305603074994, 4.0269474038835265),\n",
       " (1.7700383563021282, 3.9012649369118693),\n",
       " (2.6763975492395686, 3.7236501524570254),\n",
       " (3.0015487914946073, 4.126137109655628),\n",
       " (2.1319440998294192, 3.913809182485097),\n",
       " (1.877427408564094, 4.233451996749342),\n",
       " (2.882827660266973, 3.6806463388885717)]"
      ]
     },
     "execution_count": 24,
     "metadata": {},
     "output_type": "execute_result"
    }
   ],
   "source": [
    "list(zip(vec_1, vec_2))"
   ]
  },
  {
   "cell_type": "markdown",
   "id": "f43f980a-23a6-4bab-8e7d-00e64d1a0905",
   "metadata": {},
   "source": [
    "## Mean and STD"
   ]
  },
  {
   "cell_type": "markdown",
   "id": "369ae8c1-e950-408d-8265-729227f2e158",
   "metadata": {},
   "source": [
    "Using basic python syntax and modules, calculate the mean and standard devation of `vec_1` and `vec_2`."
   ]
  },
  {
   "cell_type": "markdown",
   "id": "4afa82eb-5112-4a8f-a801-6ec2ccded177",
   "metadata": {},
   "source": [
    "## Dot product"
   ]
  },
  {
   "cell_type": "markdown",
   "id": "4146a42f-83e1-4376-aa82-e6cc77922aae",
   "metadata": {},
   "source": [
    "Using basic python syntax and modules, calculate the dot product (AKA scalar product) of `vec_1` and `vec_2`.\n",
    "\n",
    "Reminder: The Dot product between two vectors is defined as:\n",
    "\n",
    "$ \\textbf{p} \\cdot \\textbf{q} = \n",
    "\\begin{pmatrix} x_{1} & y_{1} & z_{1} \\end{pmatrix} \n",
    "\\begin{pmatrix} x_{2}\\\\ y_{2}\\\\ z_{2} \\end{pmatrix} = \\sum_i{p_i \\cdot q_i}$ "
   ]
  },
  {
   "cell_type": "markdown",
   "id": "0826afeb-7469-43e3-9701-fc0a0783eee9",
   "metadata": {},
   "source": [
    "## Correlation"
   ]
  },
  {
   "cell_type": "markdown",
   "id": "4715704d-a7e9-4a8e-a076-0c5be3e2b562",
   "metadata": {},
   "source": [
    "Using basic python syntax and modules, calculate the [pearson correlation](https://en.wikipedia.org/wiki/Pearson_correlation_coefficient) between `vec_1` and `vec_2`:\n",
    "\n",
    "\\begin{equation}\n",
    "r_{xy} = \\frac{\\sum_{i=1}^{n}(p_i-\\bar{p})(q_i-\\bar{q})}{\\sqrt{\\sum_{i=1}^{n}(p_i-\\bar{p})^2}\\sqrt{\\sum_{i=1}^{n}(q_i-\\bar{q})^2}}\n",
    "\\end{equation}\n",
    "\n",
    "where $r_{pq}$ is the Pearson correlation coefficient between vectors $\\textbf{p}$ and $\\textbf{q}$, $n$ is the number of data points, $p_i$ and $q_i$ are the $i$-th observations of $\\textbf{p}$ and $\\textbf{q}$, and $\\bar{p}$ and $\\bar{q}$ are their respective means."
   ]
  }
 ],
 "metadata": {
  "kernelspec": {
   "display_name": "Python 3",
   "language": "python",
   "name": "python3"
  },
  "language_info": {
   "codemirror_mode": {
    "name": "ipython",
    "version": 3
   },
   "file_extension": ".py",
   "mimetype": "text/x-python",
   "name": "python",
   "nbconvert_exporter": "python",
   "pygments_lexer": "ipython3",
   "version": "3.8.8"
  }
 },
 "nbformat": 4,
 "nbformat_minor": 5
}
