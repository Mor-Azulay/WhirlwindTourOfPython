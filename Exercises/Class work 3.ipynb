{
 "cells": [
  {
   "cell_type": "markdown",
   "id": "031d5e49-079a-4d5d-a071-cf79ab50f7cf",
   "metadata": {},
   "source": [
    "# Class work 3"
   ]
  },
  {
   "cell_type": "markdown",
   "id": "73924495-9e34-4541-91d5-dd25cb890f22",
   "metadata": {},
   "source": [
    "## Data generation"
   ]
  },
  {
   "cell_type": "code",
   "execution_count": 6,
   "id": "cea49277-3880-4851-b1ab-2ec2825f9033",
   "metadata": {},
   "outputs": [],
   "source": [
    "import numpy as np"
   ]
  },
  {
   "cell_type": "code",
   "execution_count": 13,
   "id": "f2cc3e49-e70e-4259-8914-3d84c282486f",
   "metadata": {},
   "outputs": [],
   "source": [
    "vec_1 = list(2 + 0.5 * np.random.randn(10))\n",
    "vec_2 = list(4 + 0.25 * np.random.randn(10))"
   ]
  },
  {
   "cell_type": "code",
   "execution_count": 19,
   "id": "b92352e0-3c2c-4698-8939-0527fe6ca9ff",
   "metadata": {},
   "outputs": [
    {
     "data": {
      "text/plain": [
       "[(2.7360121972838827, 4.072833256319937),\n",
       " (2.0406399367464716, 3.8602111816038507),\n",
       " (3.433854345650623, 4.203513390920395),\n",
       " (2.118120154225215, 3.7505067373711767),\n",
       " (1.2667051777717664, 3.996009620080449),\n",
       " (2.0938327150837712, 4.3507998568927615),\n",
       " (1.9155289062505654, 3.7678106847390613),\n",
       " (2.067859315836003, 3.775131182994258),\n",
       " (1.7195650516532326, 4.1484153540776205),\n",
       " (2.1398013158286657, 3.801911175700998)]"
      ]
     },
     "execution_count": 19,
     "metadata": {},
     "output_type": "execute_result"
    }
   ],
   "source": [
    "list(zip(vec_1, vec_2))"
   ]
  },
  {
   "cell_type": "markdown",
   "id": "f43f980a-23a6-4bab-8e7d-00e64d1a0905",
   "metadata": {},
   "source": [
    "## Mean and STD"
   ]
  },
  {
   "cell_type": "markdown",
   "id": "369ae8c1-e950-408d-8265-729227f2e158",
   "metadata": {},
   "source": [
    "Using basic python syntax and modules, calculate the mean and standard devation of `vec_1` and `vec_2`."
   ]
  },
  {
   "cell_type": "markdown",
   "id": "4afa82eb-5112-4a8f-a801-6ec2ccded177",
   "metadata": {},
   "source": [
    "## Dot product"
   ]
  },
  {
   "cell_type": "markdown",
   "id": "4146a42f-83e1-4376-aa82-e6cc77922aae",
   "metadata": {},
   "source": [
    "Using basic python syntax and modules, calculate the dot product (AKA scalar product) of `vec_1` and `vec_2`.\n",
    "\n",
    "Reminder: The Dot product between two vectors is defined as:\n",
    "\n",
    "$ \\textbf{p} \\cdot \\textbf{q} = \n",
    "\\begin{pmatrix} x_{1} & y_{1} & z_{1} \\end{pmatrix} \n",
    "\\begin{pmatrix} x_{2}\\\\ y_{2}\\\\ z_{2} \\end{pmatrix} = \\sum_i{p_i \\cdot q_i}$ "
   ]
  },
  {
   "cell_type": "markdown",
   "id": "0826afeb-7469-43e3-9701-fc0a0783eee9",
   "metadata": {},
   "source": [
    "## Correlation"
   ]
  },
  {
   "cell_type": "markdown",
   "id": "4715704d-a7e9-4a8e-a076-0c5be3e2b562",
   "metadata": {},
   "source": [
    "Using basic python syntax and modules, calculate the [pearson correlation](https://en.wikipedia.org/wiki/Pearson_correlation_coefficient) between `vec_1` and `vec_2`:\n",
    "\n",
    "\\begin{equation}\n",
    "r_{xy} = \\frac{\\sum_{i=1}^{n}(p_i-\\bar{p})(q_i-\\bar{q})}{\\sqrt{\\sum_{i=1}^{n}(p_i-\\bar{p})^2}\\sqrt{\\sum_{i=1}^{n}(q_i-\\bar{q})^2}}\n",
    "\\end{equation}\n",
    "\n",
    "where $r_{pq}$ is the Pearson correlation coefficient between vectors $\\textbf{p}$ and $\\textbf{q}$, $n$ is the number of data points, $p_i$ and $q_i$ are the $i$-th observations of $\\textbf{p}$ and $\\textbf{q}$, and $\\bar{p}$ and $\\bar{q}$ are their respective means."
   ]
  }
 ],
 "metadata": {
  "kernelspec": {
   "display_name": "Python 3",
   "language": "python",
   "name": "python3"
  },
  "language_info": {
   "codemirror_mode": {
    "name": "ipython",
    "version": 3
   },
   "file_extension": ".py",
   "mimetype": "text/x-python",
   "name": "python",
   "nbconvert_exporter": "python",
   "pygments_lexer": "ipython3",
   "version": "3.8.8"
  }
 },
 "nbformat": 4,
 "nbformat_minor": 5
}
