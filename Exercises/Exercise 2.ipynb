{
 "cells": [
  {
   "cell_type": "markdown",
   "id": "51a728fc-0aaa-43e8-a494-b8577c8f76b0",
   "metadata": {},
   "source": [
    "# Exercise 2\n",
    "___"
   ]
  },
  {
   "cell_type": "markdown",
   "id": "ac80ad08-59a4-4767-b7b1-c216a2045626",
   "metadata": {},
   "source": [
    "## 1: BuzzFeed\n"
   ]
  },
  {
   "cell_type": "markdown",
   "id": "9ddb1062-821f-42da-8cc1-a9640a0c4cdf",
   "metadata": {},
   "source": [
    "Write a program that prints the numbers from 1 to 100. But for multiples of three print \"Fizz\" instead of the number and for the multiples of five print \"Buzz\". For numbers which are multiples of both three and five print \"FizzBuzz\"."
   ]
  },
  {
   "cell_type": "code",
   "execution_count": null,
   "id": "7246321e-6a46-4fa5-8ac9-f2e481f8e1e8",
   "metadata": {},
   "outputs": [],
   "source": [
    "# Write your code below. Don't forget to press Shift+Enter to execute the cell\n"
   ]
  },
  {
   "cell_type": "markdown",
   "id": "f83b085b-f016-47df-ae6f-8f87940c94c2",
   "metadata": {},
   "source": [
    "<details><summary>Click here for the solution</summary>\n",
    "\n",
    "```python\n",
    "for i in range(1,101):\n",
    "    if i % 3 == 0 and i % 5 == 0:\n",
    "        print(\"FizzBuzz\")\n",
    "    elif i % 3 == 0:\n",
    "        print(\"Fizz\")\n",
    "    elif i % 5 == 0:\n",
    "        print(\"Buzz\")\n",
    "    else:\n",
    "        print(i)\n",
    "```\n",
    "\n",
    "</details>\n"
   ]
  },
  {
   "cell_type": "markdown",
   "id": "5f39e302-d6e2-42b1-8e60-836a025d5410",
   "metadata": {},
   "source": [
    "## 2: Fibonacci numbers\n"
   ]
  },
  {
   "cell_type": "markdown",
   "id": "5127e91b-9b20-4e51-8b4d-bfe8d9fd3e73",
   "metadata": {},
   "source": [
    "Write a program to generate and print the first 100 Fibonacci numbers."
   ]
  },
  {
   "cell_type": "code",
   "execution_count": null,
   "id": "c4482015-140b-4021-8b9f-bfbced676196",
   "metadata": {},
   "outputs": [],
   "source": [
    "# Write your code below. Don't forget to press Shift+Enter to execute the cell\n"
   ]
  },
  {
   "cell_type": "markdown",
   "id": "dc7979de-ab94-42b4-898b-ac40248d37bb",
   "metadata": {},
   "source": [
    "<details><summary>Click here for the solution</summary>\n",
    "\n",
    "```python\n",
    "def fibonacci(n):\n",
    "    a, b = 0, 1\n",
    "    for i in range(n):\n",
    "        a, b = b, a + b\n",
    "        print(a)\n",
    "fibonacci(100)\n",
    "\n",
    "```\n",
    "\n",
    "</details>\n"
   ]
  },
  {
   "cell_type": "markdown",
   "id": "73edfea8-dcb7-4ce3-9efd-803a2c0b079c",
   "metadata": {},
   "source": [
    "## 3: Divisors\n"
   ]
  },
  {
   "cell_type": "markdown",
   "id": "2f011279-7496-4370-b910-045def3afd5a",
   "metadata": {},
   "source": [
    "Write a program that asks the user for a number and then prints out a list of all the divisors of that number."
   ]
  },
  {
   "cell_type": "code",
   "execution_count": null,
   "id": "644ea8ca-879f-4bd5-8839-133cba85d6fe",
   "metadata": {},
   "outputs": [],
   "source": [
    "# Write your code below. Don't forget to press Shift+Enter to execute the cell\n"
   ]
  },
  {
   "cell_type": "markdown",
   "id": "9bde59df-5461-4154-b43f-da0e7d9029ef",
   "metadata": {},
   "source": [
    "<details><summary>Click here for the solution</summary>\n",
    "\n",
    "```python\n",
    "def divisors(n):\n",
    "    for i in range(1, n + 1):\n",
    "        if n % i == 0:\n",
    "            print(i)\n",
    "\n",
    "n = int(input(\"Enter a number: \"))\n",
    "divisors(n)\n",
    "```\n",
    "\n",
    "</details>\n"
   ]
  }
 ],
 "metadata": {
  "kernelspec": {
   "display_name": "Python 3",
   "language": "python",
   "name": "python3"
  },
  "language_info": {
   "codemirror_mode": {
    "name": "ipython",
    "version": 3
   },
   "file_extension": ".py",
   "mimetype": "text/x-python",
   "name": "python",
   "nbconvert_exporter": "python",
   "pygments_lexer": "ipython3",
   "version": "3.8.8"
  }
 },
 "nbformat": 4,
 "nbformat_minor": 5
}
